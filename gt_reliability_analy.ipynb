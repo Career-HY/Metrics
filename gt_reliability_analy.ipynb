{
 "cells": [
  {
   "cell_type": "markdown",
   "id": "d9cd0aa2",
   "metadata": {},
   "source": [
    "# GT 신뢰도 평가 분석"
   ]
  },
  {
   "cell_type": "markdown",
   "id": "7555816f",
   "metadata": {},
   "source": [
    "## 1) 환경 설정 및 라이브러리 로드"
   ]
  },
  {
   "cell_type": "code",
   "execution_count": 28,
   "id": "33415b5b",
   "metadata": {},
   "outputs": [],
   "source": [
    "import pandas as pd\n",
    "import numpy as np\n",
    "import matplotlib.pyplot as plt\n",
    "from pathlib import Path\n",
    "\n",
    "# 차트 한글 폰트 이슈\n",
    "plt.rcParams[\"font.family\"] = (\n",
    "    \"AppleGothic\"\n",
    "    if \"AppleGothic\" in plt.rcParams.get(\"font.family\", [])\n",
    "    else plt.rcParams.get(\"font.family\")\n",
    ")\n",
    "\n",
    "DATA_PATH = Path(\n",
    "    \"/Users/haing/Desktop/🏫2025-1/졸업 프로젝트 /Carrer-Hi/Career-HY-Service/experiment/data/GT Analysis v2.0 Aug 3 2025.numbers_평가.csv\"\n",
    ")\n",
    "assert DATA_PATH.exists(), f\"파일이 존재하지 않습니다: {DATA_PATH}\"\n",
    "pd.set_option(\"display.max_colwidth\", 200)"
   ]
  },
  {
   "cell_type": "markdown",
   "id": "c7e43801",
   "metadata": {},
   "source": [
    "## 2) 데이터 로드 및 컬럼 확인"
   ]
  },
  {
   "cell_type": "code",
   "execution_count": 29,
   "id": "c708f6d2",
   "metadata": {},
   "outputs": [
    {
     "name": "stdout",
     "output_type": "stream",
     "text": [
      "컬럼: ['GT_ID', '학생_전공', '학생_관심분야', '수강과목', '완전한_검색_쿼리', '학생_질문', '공고_제목', '회사명', '거리점수', 'URL', '관련도 1-5 ', '이유 / 특징 ']\n"
     ]
    },
    {
     "data": {
      "text/html": [
       "<div>\n",
       "<style scoped>\n",
       "    .dataframe tbody tr th:only-of-type {\n",
       "        vertical-align: middle;\n",
       "    }\n",
       "\n",
       "    .dataframe tbody tr th {\n",
       "        vertical-align: top;\n",
       "    }\n",
       "\n",
       "    .dataframe thead th {\n",
       "        text-align: right;\n",
       "    }\n",
       "</style>\n",
       "<table border=\"1\" class=\"dataframe\">\n",
       "  <thead>\n",
       "    <tr style=\"text-align: right;\">\n",
       "      <th></th>\n",
       "      <th>GT_ID</th>\n",
       "      <th>학생_전공</th>\n",
       "      <th>학생_관심분야</th>\n",
       "      <th>수강과목</th>\n",
       "      <th>완전한_검색_쿼리</th>\n",
       "      <th>학생_질문</th>\n",
       "      <th>공고_제목</th>\n",
       "      <th>회사명</th>\n",
       "      <th>거리점수</th>\n",
       "      <th>URL</th>\n",
       "      <th>관련도 1-5</th>\n",
       "      <th>이유 / 특징</th>\n",
       "    </tr>\n",
       "  </thead>\n",
       "  <tbody>\n",
       "    <tr>\n",
       "      <th>0</th>\n",
       "      <td>190</td>\n",
       "      <td>컴퓨터공학</td>\n",
       "      <td>소프트웨어 개발, 임베디드 시스템, 머신 비전</td>\n",
       "      <td>임베디드시스템, 임베디드시스템설계, CSE융합세미나1, 객체지향시스템설계, 계산이론및오토마타, 데이터사이언스, 네트워크프로토콜, 기계학습알고리즘, 공학도를위한창의적프로그래밍, 소프트웨어공학, 웹프로그래밍, AI+X:인공지능, 금융인공지능실무, 비즈니스인텔리전스와인공지능의실재, 인공지능과머신러닝</td>\n",
       "      <td>질문: 나는 C++로 프로젝트를 몇 번 해봤고 임베디드 시스템 개발자가 되고 싶어. 나에게 맞는 채용 공고를 추천해줄래?\\n전공: 컴퓨터공학\\n관심 직무: 소프트웨어 개발, 임베디드 시스템, 머신 비전\\n자격증: 정보처리기사, C++ 프로그래밍 자격증\\n동아리/대외활동: 프로그래밍 동아리 활동, 머신러닝 프로젝트 진행, 임베디드 시스템 관련 해커톤 ...</td>\n",
       "      <td>나는 C++로 프로젝트를 몇 번 해봤고 임베디드 시스템 개발자가 되고 싶어. 나에게 맞는 채용 공고를 추천해줄래?</td>\n",
       "      <td>[분당/코스닥] SW 개발(임베디드/응용소프트웨어)</td>\n",
       "      <td>회사명 없음</td>\n",
       "      <td>0.000</td>\n",
       "      <td>https://www.saramin.co.kr/zf_user/jobs/relay/view?view_type=public-recruit&amp;rec_idx=50324621</td>\n",
       "      <td>5.0</td>\n",
       "      <td>임베디드 개발자 (질문)\\n자격요건 : C++\\n우대: 방산 개발 경험</td>\n",
       "    </tr>\n",
       "    <tr>\n",
       "      <th>1</th>\n",
       "      <td>190</td>\n",
       "      <td>컴퓨터공학</td>\n",
       "      <td>소프트웨어 개발, 임베디드 시스템, 머신 비전</td>\n",
       "      <td>임베디드시스템, 임베디드시스템설계, CSE융합세미나1, 객체지향시스템설계, 계산이론및오토마타, 데이터사이언스, 네트워크프로토콜, 기계학습알고리즘, 공학도를위한창의적프로그래밍, 소프트웨어공학, 웹프로그래밍, AI+X:인공지능, 금융인공지능실무, 비즈니스인텔리전스와인공지능의실재, 인공지능과머신러닝</td>\n",
       "      <td>질문: 나는 C++로 프로젝트를 몇 번 해봤고 임베디드 시스템 개발자가 되고 싶어. 나에게 맞는 채용 공고를 추천해줄래?\\n전공: 컴퓨터공학\\n관심 직무: 소프트웨어 개발, 임베디드 시스템, 머신 비전\\n자격증: 정보처리기사, C++ 프로그래밍 자격증\\n동아리/대외활동: 프로그래밍 동아리 활동, 머신러닝 프로젝트 진행, 임베디드 시스템 관련 해커톤 ...</td>\n",
       "      <td>나는 C++로 프로젝트를 몇 번 해봤고 임베디드 시스템 개발자가 되고 싶어. 나에게 맞는 채용 공고를 추천해줄래?</td>\n",
       "      <td>기술연구소 하드웨어/펌웨어 엔지니어 모집</td>\n",
       "      <td>회사명 없음</td>\n",
       "      <td>0.127</td>\n",
       "      <td>https://www.saramin.co.kr/zf_user/jobs/relay/view?view_type=public-recruit&amp;rec_idx=50429439</td>\n",
       "      <td>4.0</td>\n",
       "      <td>임베디드 시스템 (IoT) 보다는 하드웨어 엔지니어 (펌웨어, 회로, 자장비 제어)에 더 가까움. \\n\\n전자공학 관련 전공 우대. \\n</td>\n",
       "    </tr>\n",
       "    <tr>\n",
       "      <th>2</th>\n",
       "      <td>190</td>\n",
       "      <td>컴퓨터공학</td>\n",
       "      <td>소프트웨어 개발, 임베디드 시스템, 머신 비전</td>\n",
       "      <td>임베디드시스템, 임베디드시스템설계, CSE융합세미나1, 객체지향시스템설계, 계산이론및오토마타, 데이터사이언스, 네트워크프로토콜, 기계학습알고리즘, 공학도를위한창의적프로그래밍, 소프트웨어공학, 웹프로그래밍, AI+X:인공지능, 금융인공지능실무, 비즈니스인텔리전스와인공지능의실재, 인공지능과머신러닝</td>\n",
       "      <td>질문: 나는 C++로 프로젝트를 몇 번 해봤고 임베디드 시스템 개발자가 되고 싶어. 나에게 맞는 채용 공고를 추천해줄래?\\n전공: 컴퓨터공학\\n관심 직무: 소프트웨어 개발, 임베디드 시스템, 머신 비전\\n자격증: 정보처리기사, C++ 프로그래밍 자격증\\n동아리/대외활동: 프로그래밍 동아리 활동, 머신러닝 프로젝트 진행, 임베디드 시스템 관련 해커톤 ...</td>\n",
       "      <td>나는 C++로 프로젝트를 몇 번 해봤고 임베디드 시스템 개발자가 되고 싶어. 나에게 맞는 채용 공고를 추천해줄래?</td>\n",
       "      <td>농심엔지니어링(주) 검사장비 S/W개발(머신비전/초분광)</td>\n",
       "      <td>회사명 없음</td>\n",
       "      <td>0.156</td>\n",
       "      <td>https://www.saramin.co.kr/zf_user/jobs/relay/view?view_type=public-recruit&amp;rec_idx=50273583</td>\n",
       "      <td>5.0</td>\n",
       "      <td>머신비전 수업을 들음-&gt; 매우 밀접</td>\n",
       "    </tr>\n",
       "    <tr>\n",
       "      <th>3</th>\n",
       "      <td>190</td>\n",
       "      <td>컴퓨터공학</td>\n",
       "      <td>소프트웨어 개발, 임베디드 시스템, 머신 비전</td>\n",
       "      <td>임베디드시스템, 임베디드시스템설계, CSE융합세미나1, 객체지향시스템설계, 계산이론및오토마타, 데이터사이언스, 네트워크프로토콜, 기계학습알고리즘, 공학도를위한창의적프로그래밍, 소프트웨어공학, 웹프로그래밍, AI+X:인공지능, 금융인공지능실무, 비즈니스인텔리전스와인공지능의실재, 인공지능과머신러닝</td>\n",
       "      <td>질문: 나는 C++로 프로젝트를 몇 번 해봤고 임베디드 시스템 개발자가 되고 싶어. 나에게 맞는 채용 공고를 추천해줄래?\\n전공: 컴퓨터공학\\n관심 직무: 소프트웨어 개발, 임베디드 시스템, 머신 비전\\n자격증: 정보처리기사, C++ 프로그래밍 자격증\\n동아리/대외활동: 프로그래밍 동아리 활동, 머신러닝 프로젝트 진행, 임베디드 시스템 관련 해커톤 ...</td>\n",
       "      <td>나는 C++로 프로젝트를 몇 번 해봤고 임베디드 시스템 개발자가 되고 싶어. 나에게 맞는 채용 공고를 추천해줄래?</td>\n",
       "      <td>IT 인프라 시스템 기술영업</td>\n",
       "      <td>회사명 없음</td>\n",
       "      <td>0.150</td>\n",
       "      <td>https://www.saramin.co.kr/zf_user/jobs/relay/view?view_type=public-recruit&amp;rec_idx=50416124</td>\n",
       "      <td>0.0</td>\n",
       "      <td>확인할 수 없음</td>\n",
       "    </tr>\n",
       "    <tr>\n",
       "      <th>4</th>\n",
       "      <td>191</td>\n",
       "      <td>컴퓨터공학</td>\n",
       "      <td>소프트웨어 개발자, 백엔드 개발자, 클러스터 개발자</td>\n",
       "      <td>객체지향프로그래밍-JAVA, C프로그래밍, 웹프로그래밍, 바이오메디컬프로그래밍, 컴퓨터공학, 게임프로그래밍을위한캡스톤디자인, 공학도를위한창의적프로그래밍, 소프트웨어공학, 기계학습알고리즘, 자료구조와알고리즘, 네트워크및재고전략, 네트워크프로토콜, 무선네트워크, 컴퓨터네트워크, 컴퓨터소프트웨어캡스톤PBL(알고리즘테스트실습)</td>\n",
       "      <td>질문: 나는 java로 프로젝트를 몇 번 해봤고 서버 개발자가 되고 싶어. 나에게 맞는 채용 공고를 추천해줄래?\\n전공: 컴퓨터공학\\n관심 직무: 소프트웨어 개발자, 백엔드 개발자, 클러스터 개발자\\n자격증: 정보처리기사, AWS Certified Developer\\n동아리/대외활동: 프로그래밍 동아리 활동, 알고리즘 스터디 운영, 해커톤 참가\\n수...</td>\n",
       "      <td>나는 java로 프로젝트를 몇 번 해봤고 서버 개발자가 되고 싶어. 나에게 맞는 채용 공고를 추천해줄래?</td>\n",
       "      <td>PG 개발팀 개발자 팀원 모집</td>\n",
       "      <td>회사명 없음</td>\n",
       "      <td>0.000</td>\n",
       "      <td>https://www.saramin.co.kr/zf_user/jobs/relay/view?view_type=public-recruit&amp;rec_idx=50373990</td>\n",
       "      <td>3.0</td>\n",
       "      <td>개발 관련 학과와 전공은 맞으나, 임베디드 개발자 x -&gt; 채용공고 자체가 부족할 수 있으므로 AI가관련해서 관련도 설명 필요</td>\n",
       "    </tr>\n",
       "  </tbody>\n",
       "</table>\n",
       "</div>"
      ],
      "text/plain": [
       "   GT_ID  학생_전공                       학생_관심분야  \\\n",
       "0    190  컴퓨터공학     소프트웨어 개발, 임베디드 시스템, 머신 비전   \n",
       "1    190  컴퓨터공학     소프트웨어 개발, 임베디드 시스템, 머신 비전   \n",
       "2    190  컴퓨터공학     소프트웨어 개발, 임베디드 시스템, 머신 비전   \n",
       "3    190  컴퓨터공학     소프트웨어 개발, 임베디드 시스템, 머신 비전   \n",
       "4    191  컴퓨터공학  소프트웨어 개발자, 백엔드 개발자, 클러스터 개발자   \n",
       "\n",
       "                                                                                                                                                                                  수강과목  \\\n",
       "0                 임베디드시스템, 임베디드시스템설계, CSE융합세미나1, 객체지향시스템설계, 계산이론및오토마타, 데이터사이언스, 네트워크프로토콜, 기계학습알고리즘, 공학도를위한창의적프로그래밍, 소프트웨어공학, 웹프로그래밍, AI+X:인공지능, 금융인공지능실무, 비즈니스인텔리전스와인공지능의실재, 인공지능과머신러닝   \n",
       "1                 임베디드시스템, 임베디드시스템설계, CSE융합세미나1, 객체지향시스템설계, 계산이론및오토마타, 데이터사이언스, 네트워크프로토콜, 기계학습알고리즘, 공학도를위한창의적프로그래밍, 소프트웨어공학, 웹프로그래밍, AI+X:인공지능, 금융인공지능실무, 비즈니스인텔리전스와인공지능의실재, 인공지능과머신러닝   \n",
       "2                 임베디드시스템, 임베디드시스템설계, CSE융합세미나1, 객체지향시스템설계, 계산이론및오토마타, 데이터사이언스, 네트워크프로토콜, 기계학습알고리즘, 공학도를위한창의적프로그래밍, 소프트웨어공학, 웹프로그래밍, AI+X:인공지능, 금융인공지능실무, 비즈니스인텔리전스와인공지능의실재, 인공지능과머신러닝   \n",
       "3                 임베디드시스템, 임베디드시스템설계, CSE융합세미나1, 객체지향시스템설계, 계산이론및오토마타, 데이터사이언스, 네트워크프로토콜, 기계학습알고리즘, 공학도를위한창의적프로그래밍, 소프트웨어공학, 웹프로그래밍, AI+X:인공지능, 금융인공지능실무, 비즈니스인텔리전스와인공지능의실재, 인공지능과머신러닝   \n",
       "4  객체지향프로그래밍-JAVA, C프로그래밍, 웹프로그래밍, 바이오메디컬프로그래밍, 컴퓨터공학, 게임프로그래밍을위한캡스톤디자인, 공학도를위한창의적프로그래밍, 소프트웨어공학, 기계학습알고리즘, 자료구조와알고리즘, 네트워크및재고전략, 네트워크프로토콜, 무선네트워크, 컴퓨터네트워크, 컴퓨터소프트웨어캡스톤PBL(알고리즘테스트실습)   \n",
       "\n",
       "                                                                                                                                                                                                 완전한_검색_쿼리  \\\n",
       "0  질문: 나는 C++로 프로젝트를 몇 번 해봤고 임베디드 시스템 개발자가 되고 싶어. 나에게 맞는 채용 공고를 추천해줄래?\\n전공: 컴퓨터공학\\n관심 직무: 소프트웨어 개발, 임베디드 시스템, 머신 비전\\n자격증: 정보처리기사, C++ 프로그래밍 자격증\\n동아리/대외활동: 프로그래밍 동아리 활동, 머신러닝 프로젝트 진행, 임베디드 시스템 관련 해커톤 ...   \n",
       "1  질문: 나는 C++로 프로젝트를 몇 번 해봤고 임베디드 시스템 개발자가 되고 싶어. 나에게 맞는 채용 공고를 추천해줄래?\\n전공: 컴퓨터공학\\n관심 직무: 소프트웨어 개발, 임베디드 시스템, 머신 비전\\n자격증: 정보처리기사, C++ 프로그래밍 자격증\\n동아리/대외활동: 프로그래밍 동아리 활동, 머신러닝 프로젝트 진행, 임베디드 시스템 관련 해커톤 ...   \n",
       "2  질문: 나는 C++로 프로젝트를 몇 번 해봤고 임베디드 시스템 개발자가 되고 싶어. 나에게 맞는 채용 공고를 추천해줄래?\\n전공: 컴퓨터공학\\n관심 직무: 소프트웨어 개발, 임베디드 시스템, 머신 비전\\n자격증: 정보처리기사, C++ 프로그래밍 자격증\\n동아리/대외활동: 프로그래밍 동아리 활동, 머신러닝 프로젝트 진행, 임베디드 시스템 관련 해커톤 ...   \n",
       "3  질문: 나는 C++로 프로젝트를 몇 번 해봤고 임베디드 시스템 개발자가 되고 싶어. 나에게 맞는 채용 공고를 추천해줄래?\\n전공: 컴퓨터공학\\n관심 직무: 소프트웨어 개발, 임베디드 시스템, 머신 비전\\n자격증: 정보처리기사, C++ 프로그래밍 자격증\\n동아리/대외활동: 프로그래밍 동아리 활동, 머신러닝 프로젝트 진행, 임베디드 시스템 관련 해커톤 ...   \n",
       "4  질문: 나는 java로 프로젝트를 몇 번 해봤고 서버 개발자가 되고 싶어. 나에게 맞는 채용 공고를 추천해줄래?\\n전공: 컴퓨터공학\\n관심 직무: 소프트웨어 개발자, 백엔드 개발자, 클러스터 개발자\\n자격증: 정보처리기사, AWS Certified Developer\\n동아리/대외활동: 프로그래밍 동아리 활동, 알고리즘 스터디 운영, 해커톤 참가\\n수...   \n",
       "\n",
       "                                                             학생_질문  \\\n",
       "0  나는 C++로 프로젝트를 몇 번 해봤고 임베디드 시스템 개발자가 되고 싶어. 나에게 맞는 채용 공고를 추천해줄래?   \n",
       "1  나는 C++로 프로젝트를 몇 번 해봤고 임베디드 시스템 개발자가 되고 싶어. 나에게 맞는 채용 공고를 추천해줄래?   \n",
       "2  나는 C++로 프로젝트를 몇 번 해봤고 임베디드 시스템 개발자가 되고 싶어. 나에게 맞는 채용 공고를 추천해줄래?   \n",
       "3  나는 C++로 프로젝트를 몇 번 해봤고 임베디드 시스템 개발자가 되고 싶어. 나에게 맞는 채용 공고를 추천해줄래?   \n",
       "4       나는 java로 프로젝트를 몇 번 해봤고 서버 개발자가 되고 싶어. 나에게 맞는 채용 공고를 추천해줄래?   \n",
       "\n",
       "                             공고_제목     회사명   거리점수  \\\n",
       "0     [분당/코스닥] SW 개발(임베디드/응용소프트웨어)  회사명 없음  0.000   \n",
       "1           기술연구소 하드웨어/펌웨어 엔지니어 모집  회사명 없음  0.127   \n",
       "2  농심엔지니어링(주) 검사장비 S/W개발(머신비전/초분광)  회사명 없음  0.156   \n",
       "3                  IT 인프라 시스템 기술영업  회사명 없음  0.150   \n",
       "4                 PG 개발팀 개발자 팀원 모집  회사명 없음  0.000   \n",
       "\n",
       "                                                                                           URL  \\\n",
       "0  https://www.saramin.co.kr/zf_user/jobs/relay/view?view_type=public-recruit&rec_idx=50324621   \n",
       "1  https://www.saramin.co.kr/zf_user/jobs/relay/view?view_type=public-recruit&rec_idx=50429439   \n",
       "2  https://www.saramin.co.kr/zf_user/jobs/relay/view?view_type=public-recruit&rec_idx=50273583   \n",
       "3  https://www.saramin.co.kr/zf_user/jobs/relay/view?view_type=public-recruit&rec_idx=50416124   \n",
       "4  https://www.saramin.co.kr/zf_user/jobs/relay/view?view_type=public-recruit&rec_idx=50373990   \n",
       "\n",
       "   관련도 1-5   \\\n",
       "0       5.0   \n",
       "1       4.0   \n",
       "2       5.0   \n",
       "3       0.0   \n",
       "4       3.0   \n",
       "\n",
       "                                                                       이유 / 특징   \n",
       "0                                      임베디드 개발자 (질문)\\n자격요건 : C++\\n우대: 방산 개발 경험   \n",
       "1  임베디드 시스템 (IoT) 보다는 하드웨어 엔지니어 (펌웨어, 회로, 자장비 제어)에 더 가까움. \\n\\n전자공학 관련 전공 우대. \\n  \n",
       "2                                                          머신비전 수업을 들음-> 매우 밀접   \n",
       "3                                                                     확인할 수 없음   \n",
       "4        개발 관련 학과와 전공은 맞으나, 임베디드 개발자 x -> 채용공고 자체가 부족할 수 있으므로 AI가관련해서 관련도 설명 필요  "
      ]
     },
     "execution_count": 29,
     "metadata": {},
     "output_type": "execute_result"
    }
   ],
   "source": [
    "df = pd.read_csv(DATA_PATH, encoding=\"utf-8-sig\")\n",
    "print(\"컬럼:\", list(df.columns))\n",
    "df.head()"
   ]
  },
  {
   "cell_type": "markdown",
   "id": "24870c41",
   "metadata": {},
   "source": [
    "## 3) 점수 컬럼 전처리\n",
    "- `관련도 0, 1-5` 컬럼의 null은 제외하고, 1~5 사이의 유효 점수만 사용"
   ]
  },
  {
   "cell_type": "code",
   "execution_count": 30,
   "id": "aef6eefc",
   "metadata": {},
   "outputs": [
    {
     "name": "stdout",
     "output_type": "stream",
     "text": [
      "59\n",
      "유효 점수 개수: 59  / 원본 행 수: 664\n"
     ]
    }
   ],
   "source": [
    "# 12명에 대한 관련도\n",
    "\n",
    "# 점수 컬럼 식별 (이름에 '관련도'와 0,'1-5'가 포함된 첫 컬럼 사용)\n",
    "# 11개의 학생 프로필 사용\n",
    "score_col = [c for c in df.columns if \"관련도\" in c and \"1-5\" in c][0]\n",
    "df_not_null = df[df[score_col].notna()].copy()\n",
    "# print(df_not_null)\n",
    "print(len(df_not_null))\n",
    "\n",
    "# scores = pd.to_numeric(df[score_col], errors=\"coerce\")\n",
    "# scores_non_null = scores.dropna()\n",
    "in_range = df_not_null[(df_not_null[score_col] >= 0) & (df_not_null[score_col] <= 5)]\n",
    "print(\"유효 점수 개수:\", len(in_range), \" / 원본 행 수:\", len(df))"
   ]
  },
  {
   "cell_type": "markdown",
   "id": "ad1fa862",
   "metadata": {},
   "source": [
    "## 4) 정확도(≥4 비율) & 분포(1~5)"
   ]
  },
  {
   "cell_type": "code",
   "execution_count": 32,
   "id": "4d13d625",
   "metadata": {},
   "outputs": [
    {
     "name": "stdout",
     "output_type": "stream",
     "text": [
      "정확도(≥4): 0.5593 (55.93%)\n"
     ]
    },
    {
     "data": {
      "text/html": [
       "<div>\n",
       "<style scoped>\n",
       "    .dataframe tbody tr th:only-of-type {\n",
       "        vertical-align: middle;\n",
       "    }\n",
       "\n",
       "    .dataframe tbody tr th {\n",
       "        vertical-align: top;\n",
       "    }\n",
       "\n",
       "    .dataframe thead th {\n",
       "        text-align: right;\n",
       "    }\n",
       "</style>\n",
       "<table border=\"1\" class=\"dataframe\">\n",
       "  <thead>\n",
       "    <tr style=\"text-align: right;\">\n",
       "      <th></th>\n",
       "      <th>score</th>\n",
       "      <th>count</th>\n",
       "    </tr>\n",
       "  </thead>\n",
       "  <tbody>\n",
       "    <tr>\n",
       "      <th>0</th>\n",
       "      <td>0</td>\n",
       "      <td>2</td>\n",
       "    </tr>\n",
       "    <tr>\n",
       "      <th>1</th>\n",
       "      <td>1</td>\n",
       "      <td>8</td>\n",
       "    </tr>\n",
       "    <tr>\n",
       "      <th>2</th>\n",
       "      <td>2</td>\n",
       "      <td>8</td>\n",
       "    </tr>\n",
       "    <tr>\n",
       "      <th>3</th>\n",
       "      <td>3</td>\n",
       "      <td>8</td>\n",
       "    </tr>\n",
       "    <tr>\n",
       "      <th>4</th>\n",
       "      <td>4</td>\n",
       "      <td>21</td>\n",
       "    </tr>\n",
       "    <tr>\n",
       "      <th>5</th>\n",
       "      <td>5</td>\n",
       "      <td>12</td>\n",
       "    </tr>\n",
       "  </tbody>\n",
       "</table>\n",
       "</div>"
      ],
      "text/plain": [
       "   score  count\n",
       "0      0      2\n",
       "1      1      8\n",
       "2      2      8\n",
       "3      3      8\n",
       "4      4     21\n",
       "5      5     12"
      ]
     },
     "execution_count": 32,
     "metadata": {},
     "output_type": "execute_result"
    }
   ],
   "source": [
    "scores = pd.to_numeric(df[score_col], errors=\"coerce\")\n",
    "in_range = scores.dropna()\n",
    "in_range = in_range[(in_range >= 0) & (in_range <= 5)]\n",
    "\n",
    "accuracy = (in_range >= 4).mean() if len(in_range) else np.nan\n",
    "dist = (\n",
    "    in_range.round()\n",
    "    .value_counts()\n",
    "    .reindex([0, 1, 2, 3, 4, 5], fill_value=0)\n",
    "    .astype(int)\n",
    ")\n",
    "print(\n",
    "    f\"정확도(≥4): {accuracy:.4f} ({accuracy*100:.2f}%)\"\n",
    "    if not np.isnan(accuracy)\n",
    "    else \"정확도(≥4): NA\"\n",
    ")\n",
    "dist_df = dist.rename_axis(\"score\").reset_index(name=\"count\")\n",
    "dist_df"
   ]
  },
  {
   "cell_type": "markdown",
   "id": "9a0dc7ef",
   "metadata": {},
   "source": [
    "## 5) 분포 차트"
   ]
  },
  {
   "cell_type": "code",
   "execution_count": null,
   "id": "5c7319bd",
   "metadata": {},
   "outputs": [
    {
     "data": {
      "image/png": "[encoded data removed]",
      "text/plain": [
       "<Figure size 640x480 with 1 Axes>"
      ]
     },
     "metadata": {},
     "output_type": "display_data"
    }
   ],
   "source": [
    "import matplotlib.pyplot as plt\n",
    "import platform\n",
    "\n",
    "# 한글 폰트 설정\n",
    "if platform.system() == \"Darwin\":  # MacOS\n",
    "    plt.rcParams[\"font.family\"] = \"AppleGothic\"\n",
    "elif platform.system() == \"Windows\":\n",
    "    plt.rcParams[\"font.family\"] = \"Malgun Gothic\"\n",
    "else:  # Linux (Colab, Ubuntu 등)\n",
    "    plt.rcParams[\"font.family\"] = \"NanumGothic\"\n",
    "\n",
    "# 마이너스 기호 깨짐 방지\n",
    "plt.rcParams[\"axes.unicode_minus\"] = False\n",
    "\n",
    "plt.figure()\n",
    "plt.bar(dist.index.astype(str), dist.values)\n",
    "plt.title(\"관련도 점수 분포 (0~5)\")\n",
    "plt.xlabel(\"Score\")\n",
    "plt.ylabel(\"Count\")\n",
    "plt.tight_layout()\n",
    "plt.show()"
   ]
  },
  {
   "cell_type": "markdown",
   "id": "7cbf0fce",
   "metadata": {},
   "source": [
    "## 6) 사용자(또는 GT_ID)별 정확도\n",
    "- 각 사람당 5개 프로필 중 `관련도`가 null인 행은 제외하고 계산"
   ]
  },
  {
   "cell_type": "code",
   "execution_count": null,
   "id": "7f4eb19b",
   "metadata": {},
   "outputs": [],
   "source": [
    "df = pd.read_csv(DATA_PATH, encoding=\"utf-8-sig\")\n",
    "\n",
    "# 점수 컬럼 식별\n",
    "score_col = [c for c in df.columns if \"관련도\" in c and \"1-5\" in c][0]\n",
    "group_col = \"GT_ID\" if \"GT_ID\" in df.columns else None\n",
    "\n",
    "\n",
    "group_col = \"GT_ID\" if \"GT_ID\" in df.columns else None\n",
    "if group_col is None:\n",
    "    print(\"GT_ID 컬럼이 없어 그룹 기준 정확도를 계산하지 않습니다.\")\n",
    "else:\n",
    "    tmp = df.copy()\n",
    "    tmp[\"score\"] = pd.to_numeric(tmp[score_col], errors=\"coerce\")\n",
    "    tmp = tmp[(tmp[\"score\"] >= 0) & (tmp[\"score\"] <= 5)]\n",
    "    per_user = (\n",
    "        tmp.groupby(group_col)[\"score\"]\n",
    "        .apply(lambda s: (s >= 4).mean())\n",
    "        .reset_index(name=\"accuracy_ge4\")\n",
    "    )\n",
    "    per_user.head(20)"
   ]
  },
  {
   "cell_type": "code",
   "execution_count": null,
   "id": "d2d3ddda",
   "metadata": {},
   "outputs": [],
   "source": []
  }
 ],
 "metadata": {
  "kernelspec": {
   "display_name": "base",
   "language": "python",
   "name": "python3"
  },
  "language_info": {
   "codemirror_mode": {
    "name": "ipython",
    "version": 3
   },
   "file_extension": ".py",
   "mimetype": "text/x-python",
   "name": "python",
   "nbconvert_exporter": "python",
   "pygments_lexer": "ipython3",
   "version": "3.12.7"
  }
 },
 "nbformat": 4,
 "nbformat_minor": 5
}
